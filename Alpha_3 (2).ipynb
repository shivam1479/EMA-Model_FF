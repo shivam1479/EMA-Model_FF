{
 "cells": [
  {
   "cell_type": "code",
   "execution_count": 1,
   "id": "9cf6004a",
   "metadata": {},
   "outputs": [],
   "source": [
    "import pandas as pd\n",
    "import yfinance as yf\n",
    "import numpy as np\n",
    "import matplotlib.pyplot as plt\n",
    "pd.set_option(\"display.max_rows\", None)"
   ]
  },
  {
   "cell_type": "code",
   "execution_count": 2,
   "id": "474791d9",
   "metadata": {},
   "outputs": [],
   "source": [
    "#creating a function to find SMA for n period \n",
    "def sma(data,period):\n",
    "      return data.rolling(period).mean()"
   ]
  },
  {
   "cell_type": "code",
   "execution_count": 3,
   "id": "5f2e0920",
   "metadata": {},
   "outputs": [],
   "source": [
    "# start='2023-06-20'\n",
    "# end='2023-08-12'\n",
    "# data=yf.download(\"CL=F\", start, end, interval=\"30m\")"
   ]
  },
  {
   "cell_type": "code",
   "execution_count": 4,
   "id": "074bc21f",
   "metadata": {},
   "outputs": [
    {
     "name": "stdout",
     "output_type": "stream",
     "text": [
      "[*********************100%***********************]  1 of 1 completed\n"
     ]
    }
   ],
   "source": [
    "symbol = 'CL=F'\n",
    "start = '2023-06-20'\n",
    "end = '2023-08-14'\n",
    "data=yf.download(symbol,start,end, interval=\"15m\")"
   ]
  },
  {
   "cell_type": "code",
   "execution_count": 5,
   "id": "3caa362e",
   "metadata": {},
   "outputs": [],
   "source": [
    "#function to find RSI of n period \n",
    "def rsi(data,period): \n",
    "    change = data.diff(1)\n",
    "    gain = change.mask(change<0,0)\n",
    "    loss = abs(change.mask(change>0,0))\n",
    "    avg_gain = gain.rolling(period).mean()\n",
    "    avg_loss= loss.rolling(period).mean()\n",
    "    rs = avg_gain/avg_loss\n",
    "    return ( 100 - (100/(1+rs)))"
   ]
  },
  {
   "cell_type": "code",
   "execution_count": 6,
   "id": "bbda0d6d",
   "metadata": {},
   "outputs": [],
   "source": [
    "def slope(x,y): \n",
    "    dif=x-y\n",
    "    if dif>=0: \n",
    "        return False\n",
    "    else: \n",
    "        return True\n",
    "    "
   ]
  },
  {
   "cell_type": "code",
   "execution_count": 7,
   "id": "7e80dfa7",
   "metadata": {},
   "outputs": [],
   "source": [
    "data[\"RSI\"]=rsi(data[\"Close\"], 7)\n",
    "data[\"SMA3\"]=sma(data[\"Close\"],3)\n",
    "data[\"SMA20\"]=sma(data[\"Close\"],20)\n",
    "data[\"SMA5\"]=sma(data[\"Close\"],5)\n",
    "data[\"entry_long\"]=\"\"\n",
    "data[\"exit_long\"]=\"\"\n",
    "data[\"entry_short\"]=\"\"\n",
    "data[\"exit_short\"]=\"\"\n",
    "data[\"stop_loss\"]=\"\"\n",
    "data[\"target\"]=\"\"\n",
    "data[\"trade_type\"]=\"\"\n",
    "global no_trade\n",
    "no_trade=0\n",
    "p_l_short=[]\n",
    "p_l_long=[]\n",
    "p_l=[]"
   ]
  },
  {
   "cell_type": "code",
   "execution_count": 10,
   "id": "a9c6ce5d",
   "metadata": {},
   "outputs": [],
   "source": [
    "\n",
    "\n",
    "# Initialize trade variables\n",
    "in_long_trade = False\n",
    "in_short_trade = False\n",
    "\n",
    "# Iterate through the data\n",
    "for i in range(1, len(data)):\n",
    "    # Long trade entry conditions\n",
    "    if data['Close'][i] > data['SMA20'][i] and data['SMA3'][i] > data['SMA5'][i] and data['SMA5'][i] > data['SMA20'][i]:\n",
    "        if not in_long_trade:\n",
    "            in_long_trade = True\n",
    "            entry_price_long = data['Close'][i]\n",
    "            data[\"entry_long\"]=entry_price_long\n",
    "    \n",
    "    # Long trade exit conditions\n",
    "    if in_long_trade and data['SMA5'][i] < data['SMA3'][i] and data['SMA3'][i] < data['SMA20'][i]:\n",
    "        in_long_trade = False\n",
    "        exit_price = data['Close'][i]\n",
    "        data[\"exit_long\"]=exit_price\n",
    "        profit = exit_price - entry_price_long\n",
    "        p_l_long.append(profit)\n",
    "        p_l.append(profit)\n",
    "        no_trade+=1\n",
    "    \n",
    "    # Short trade entry conditions\n",
    "    if data['Close'][i] < data['SMA20'][i] and data['SMA3'][i] < data['SMA5'][i] and data['SMA5'][i] < data['SMA20'][i]:\n",
    "        if not in_short_trade:\n",
    "            in_short_trade = True\n",
    "            entry_price_short = data['Close'][i]\n",
    "            data[\"entry_short\"]=entry_price_short          \n",
    "    \n",
    "    # Short trade exit conditions\n",
    "    if in_short_trade and data['SMA5'][i] > data['SMA3'][i] and data['SMA3'][i] > data['SMA20'][i]:\n",
    "        in_short_trade = False\n",
    "        exit_price = data['Close'][i]\n",
    "        profit = entry_price_short - exit_price\n",
    "        p_l_short.append(profit)\n",
    "        p_l.append(profit)\n",
    "        no_trade+=1\n",
    "        \n"
   ]
  },
  {
   "cell_type": "code",
   "execution_count": 44,
   "id": "10a8af05",
   "metadata": {},
   "outputs": [],
   "source": [
    "#no. of winning trades in long\n",
    "loosing_long=0\n",
    "loss_long=0\n",
    "win_long=0\n",
    "loss_short=0\n",
    "winning_short=0\n",
    "win_short=0\n",
    "winning_long=0\n",
    "loosing_short=0\n",
    "\n",
    "for i in p_l_long: \n",
    "    if i< 0: \n",
    "        loosing_long+=1\n",
    "        loss_long+=i\n",
    "    else: \n",
    "        winning_long+=1\n",
    "        win_long+=i\n",
    "        \n",
    "for i in p_l_short: \n",
    "    if i< 0: \n",
    "        loosing_short+=1\n",
    "        loss_short+=i\n",
    "    else: \n",
    "        winning_short+=1\n",
    "        win_short+=i\n",
    "        \n",
    "cum_long=[]\n",
    "cum_short=[]\n",
    "cum_p_l=[]\n",
    "sumo=0\n",
    "max_drawback=0\n",
    "for i in p_l_long:\n",
    "    sumo=sumo+i\n",
    "    cum_long.append(sumo)\n",
    "\n",
    "sumo=0\n",
    "for i in p_l_short:\n",
    "    sumo=sumo+i\n",
    "    cum_short.append(sumo)\n",
    "\n",
    "sumo=0\n",
    "max_drawback=1000\n",
    "for i in p_l:\n",
    "    temp=sumo\n",
    "    sumo=sumo+i\n",
    "    cum_p_l.append(sumo)\n",
    "    if(sumo<temp): \n",
    "        max_drawback=min(sumo-temp, max_drawback)\n",
    "    \n",
    "    \n",
    "# time_all=data.index[data[\"Trade_type\"]!=\" long\" or data[\"Trade_type\"]!=\"short\" or data[\"Trade_type\"]!=\"\" ]\n",
    "\n",
    "# time_long=data.index[data[\"trade_type\"]==\"Target_long\" or data[\"trade_type\"]==\"stop_loss_long\" ]\n",
    "\n",
    "# time_short=data.index[ data[\"trade_type\"]==\"stop_loss_short\" or data[\"trade_type\"]==\"Target_short\" ]\n",
    "\n",
    "\n",
    "\n",
    "    \n",
    "\n",
    "\n",
    "#no. of trades \n",
    "\n",
    "no_trades=len(p_l_short)+len(p_l_long)\n",
    "no_short_trades=len(p_l_short)\n",
    "no_long_trades=len(p_l_long)\n",
    "no_win_long_trades=winning_long\n",
    "no_win_short_trades=winning_short\n",
    "no_loss_long_trades=loosing_long\n",
    "no_loss_short_trades=loosing_short\n",
    "total_win_trades=no_win_short_trades + no_win_long_trades\n",
    "total_loss_trades=no_loss_short_trades+no_loss_long_trades\n",
    "hit_ratio=total_win_trades/no_trades\n",
    "total_win_p_long=win_long\n",
    "total_loss_p_long=loss_long\n",
    "total_win_p_short=win_short\n",
    "total_loss_p_short=loss_short\n",
    "total_profit= total_win_p_long+total_win_p_short\n",
    "total_loss=total_loss_p_long+total_loss_p_short\n",
    "\n",
    "\n",
    "final={ \"number of trades\": no_trades, \n",
    "       \" number of short trades\": no_short_trades, \n",
    "       \" number of long trades\" : no_long_trades, \n",
    "        \" number of winning long trades\": no_win_long_trades,\n",
    "       \" number of loosing long trades\": no_loss_long_trades,\n",
    "       \" number of winning short trades\": no_win_short_trades,\n",
    "       \" number of loosing short trades\": no_loss_short_trades,\n",
    "       \"Total win trades\": total_win_trades, \n",
    "       \" Total loose trades\": total_loss_trades, \n",
    "       \"hit ratio\": hit_ratio, \n",
    "       \"profit in long trade\": total_win_p_long, \n",
    "       \" profit in short trade\": total_win_p_short,\n",
    "       \" loss in long trade\": total_loss_p_long,\n",
    "       \" loss in short trade\": total_loss_p_short, \n",
    "       \"total profit\": total_profit,\n",
    "       \"total loss\": total_loss,\n",
    "       \"net profit\": total_profit+total_loss,\n",
    "       \"maximum_drawback\": max_drawback,\n",
    "       \"time period\": data.index[-1]- data.index[0]\n",
    "      }\n",
    "       \n",
    "       \n",
    "       \n",
    "      \n",
    "       \n",
    "\n",
    "\n",
    "\n",
    "\n"
   ]
  },
  {
   "cell_type": "code",
   "execution_count": 45,
   "id": "38d40f6a",
   "metadata": {},
   "outputs": [
    {
     "data": {
      "text/plain": [
       "Text(0.5, 1.0, 'Long Trade Equity Curve')"
      ]
     },
     "execution_count": 45,
     "metadata": {},
     "output_type": "execute_result"
    },
    {
     "data": {
      "image/png": "[encoded data removed]",
      "text/plain": [
       "<Figure size 432x288 with 1 Axes>"
      ]
     },
     "metadata": {
      "needs_background": "light"
     },
     "output_type": "display_data"
    }
   ],
   "source": [
    "plt.plot( cum_long)\n",
    "plt.title(\"Long Trade Equity Curve\")\n"
   ]
  },
  {
   "cell_type": "code",
   "execution_count": 46,
   "id": "b528abf4",
   "metadata": {},
   "outputs": [
    {
     "data": {
      "text/plain": [
       "Text(0.5, 1.0, 'Short Trade Equity Curve')"
      ]
     },
     "execution_count": 46,
     "metadata": {},
     "output_type": "execute_result"
    },
    {
     "data": {
      "image/png": "[encoded data removed]",
      "text/plain": [
       "<Figure size 432x288 with 1 Axes>"
      ]
     },
     "metadata": {
      "needs_background": "light"
     },
     "output_type": "display_data"
    }
   ],
   "source": [
    "plt.plot( cum_short)\n",
    "plt.title(\"Short Trade Equity Curve\")\n"
   ]
  },
  {
   "cell_type": "code",
   "execution_count": 47,
   "id": "319b15ca",
   "metadata": {},
   "outputs": [
    {
     "data": {
      "text/plain": [
       "Text(0.5, 1.0, 'Equity_curve')"
      ]
     },
     "execution_count": 47,
     "metadata": {},
     "output_type": "execute_result"
    },
    {
     "data": {
      "image/png": "[encoded data removed]",
      "text/plain": [
       "<Figure size 432x288 with 1 Axes>"
      ]
     },
     "metadata": {
      "needs_background": "light"
     },
     "output_type": "display_data"
    }
   ],
   "source": [
    "plt.plot(cum_p_l)\n",
    "plt.title(\"Equity_curve\")"
   ]
  },
  {
   "cell_type": "code",
   "execution_count": 48,
   "id": "daa6910f",
   "metadata": {},
   "outputs": [
    {
     "data": {
      "image/png": "[encoded data removed]",
      "text/plain": [
       "<Figure size 432x288 with 1 Axes>"
      ]
     },
     "metadata": {
      "needs_background": "light"
     },
     "output_type": "display_data"
    },
    {
     "data": {
      "text/plain": [
       "<Figure size 21600x7200 with 0 Axes>"
      ]
     },
     "metadata": {},
     "output_type": "display_data"
    }
   ],
   "source": [
    "plt.plot(data[\"Close\"])\n",
    "plt.figure(figsize=(300,100))\n",
    "plt.show()"
   ]
  },
  {
   "cell_type": "code",
   "execution_count": 50,
   "id": "47880f2a",
   "metadata": {},
   "outputs": [
    {
     "data": {
      "text/plain": [
       "{'number of trades': 182,\n",
       " ' number of short trades': 93,\n",
       " ' number of long trades': 89,\n",
       " ' number of winning long trades': 40,\n",
       " ' number of loosing long trades': 49,\n",
       " ' number of winning short trades': 29,\n",
       " ' number of loosing short trades': 64,\n",
       " 'Total win trades': 69,\n",
       " ' Total loose trades': 113,\n",
       " 'hit ratio': 0.3791208791208791,\n",
       " 'profit in long trade': 22.290008544921875,\n",
       " ' profit in short trade': 15.8499755859375,\n",
       " ' loss in long trade': -16.790000915527344,\n",
       " ' loss in short trade': -27.39006805419922,\n",
       " 'total profit': 38.139984130859375,\n",
       " 'total loss': -44.18006896972656,\n",
       " 'net profit': -6.0400848388671875,\n",
       " 'maximum_drawback': -2.6200027465820312,\n",
       " 'time period': Timedelta('54 days 23:45:00')}"
      ]
     },
     "execution_count": 50,
     "metadata": {},
     "output_type": "execute_result"
    }
   ],
   "source": [
    "final"
   ]
  },
  {
   "cell_type": "code",
   "execution_count": null,
   "id": "003c5378",
   "metadata": {},
   "outputs": [],
   "source": []
  },
  {
   "cell_type": "code",
   "execution_count": null,
   "id": "3d28e578",
   "metadata": {},
   "outputs": [],
   "source": []
  }
 ],
 "metadata": {
  "kernelspec": {
   "display_name": "Python 3",
   "language": "python",
   "name": "python3"
  },
  "language_info": {
   "codemirror_mode": {
    "name": "ipython",
    "version": 3
   },
   "file_extension": ".py",
   "mimetype": "text/x-python",
   "name": "python",
   "nbconvert_exporter": "python",
   "pygments_lexer": "ipython3",
   "version": "3.8.8"
  }
 },
 "nbformat": 4,
 "nbformat_minor": 5
}
